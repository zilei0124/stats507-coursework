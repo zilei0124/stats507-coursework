{
 "cells": [
  {
   "cell_type": "markdown",
   "metadata": {
    "deletable": false,
    "nbgrader": {
     "checksum": "696db158b862ec56d989f105f32f1470",
     "grade": false,
     "grade_id": "cell-796c066b1d873653",
     "locked": true,
     "schema_version": 3,
     "solution": false,
     "task": false
    },
    "slideshow": {
     "slide_type": ""
    },
    "tags": []
   },
   "source": [
    "# STATS 507, Week 2_1 practice"
   ]
  },
  {
   "cell_type": "code",
   "execution_count": 4,
   "metadata": {},
   "outputs": [
    {
     "data": {
      "text/plain": [
       "1.0"
      ]
     },
     "execution_count": 4,
     "metadata": {},
     "output_type": "execute_result"
    }
   ],
   "source": [
    "# Python primitive\n",
    "x = None\n",
    "type(x)\n",
    "\n",
    "float(\"1.0\")"
   ]
  },
  {
   "cell_type": "markdown",
   "metadata": {
    "deletable": false,
    "nbgrader": {
     "checksum": "01c96ce6364dd671b82244388824bb3b",
     "grade": false,
     "grade_id": "cell-7148dbe2ddfec6f4",
     "locked": true,
     "schema_version": 3,
     "solution": false,
     "task": false
    }
   },
   "source": [
    "### Problem 1\n",
    "Write a function that takes two integers as argumens. Return the first argument if it is a positive number. Otherwise, return the sum of both arguments."
   ]
  },
  {
   "cell_type": "code",
   "execution_count": 3,
   "metadata": {
    "deletable": false,
    "nbgrader": {
     "checksum": "7c7eca172526141f73a6047f5449ba4d",
     "grade": false,
     "grade_id": "cell-db7233a2d95c6406",
     "locked": false,
     "schema_version": 3,
     "solution": true,
     "task": false
    }
   },
   "outputs": [],
   "source": [
    "def postive_or_sum(x, y):\n",
    "    # YOUR CODE HERE\n",
    "    if x > 0:\n",
    "        return x\n",
    "    else:\n",
    "        return x + y\n",
    "\n",
    "\n",
    "assert postive_or_sum(1,2) == 1"
   ]
  },
  {
   "cell_type": "code",
   "execution_count": 5,
   "metadata": {
    "deletable": false,
    "editable": false,
    "nbgrader": {
     "checksum": "094af8aec37063af435127241786d009",
     "grade": true,
     "grade_id": "cell-d525ecbed5402db1",
     "locked": true,
     "points": 1,
     "schema_version": 3,
     "solution": false,
     "task": false
    }
   },
   "outputs": [],
   "source": [
    "assert postive_or_sum(42, 16) == 42\n",
    "assert postive_or_sum(33, 13) == 33\n",
    "assert postive_or_sum(-33, 13) == -20"
   ]
  },
  {
   "cell_type": "code",
   "execution_count": 11,
   "metadata": {},
   "outputs": [],
   "source": [
    "assert postive_or_sum(3,4) == 3"
   ]
  },
  {
   "cell_type": "code",
   "execution_count": null,
   "metadata": {},
   "outputs": [],
   "source": []
  }
 ],
 "metadata": {
  "kernelspec": {
   "display_name": "Python 3 (ipykernel)",
   "language": "python",
   "name": "python3"
  },
  "language_info": {
   "codemirror_mode": {
    "name": "ipython",
    "version": 3
   },
   "file_extension": ".py",
   "mimetype": "text/x-python",
   "name": "python",
   "nbconvert_exporter": "python",
   "pygments_lexer": "ipython3",
   "version": "3.12.4"
  }
 },
 "nbformat": 4,
 "nbformat_minor": 4
}
